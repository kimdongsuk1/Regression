{
 "cells": [
  {
   "cell_type": "code",
   "execution_count": 44,
   "metadata": {},
   "outputs": [],
   "source": [
    "import numpy as np\n",
    "\n"
   ]
  },
  {
   "cell_type": "code",
   "execution_count": 45,
   "metadata": {},
   "outputs": [],
   "source": [
    "import pandas as pd"
   ]
  },
  {
   "cell_type": "markdown",
   "metadata": {},
   "source": [
    "$\\LARGE Data$  $\\LARGE Processiong$      "
   ]
  },
  {
   "cell_type": "code",
   "execution_count": 46,
   "metadata": {},
   "outputs": [],
   "source": [
    "#data_path = \"crimedataset1,xlsx\" - 결측치를 각 열의 평균으로 처리할 경우.\n",
    "# 저장된 코드는 결측치를 제거한 데이터임.\n",
    "\n",
    "data_path = \"crimedataset11.xlsx\" \n",
    "crime= pd.read_excel(data_path)"
   ]
  },
  {
   "cell_type": "code",
   "execution_count": 47,
   "metadata": {},
   "outputs": [],
   "source": [
    "crime=crime.dropna(axis=1)"
   ]
  },
  {
   "cell_type": "code",
   "execution_count": 48,
   "metadata": {},
   "outputs": [],
   "source": [
    "crime = crime.replace(\"?\",None)"
   ]
  },
  {
   "cell_type": "code",
   "execution_count": 6,
   "metadata": {},
   "outputs": [],
   "source": [
    "#crime=crime.fillna(crime.mean()) "
   ]
  },
  {
   "cell_type": "code",
   "execution_count": 49,
   "metadata": {},
   "outputs": [],
   "source": [
    "crime=(crime-crime.mean())/crime.std()"
   ]
  },
  {
   "cell_type": "code",
   "execution_count": 50,
   "metadata": {},
   "outputs": [
    {
     "data": {
      "text/html": [
       "<div>\n",
       "<style scoped>\n",
       "    .dataframe tbody tr th:only-of-type {\n",
       "        vertical-align: middle;\n",
       "    }\n",
       "\n",
       "    .dataframe tbody tr th {\n",
       "        vertical-align: top;\n",
       "    }\n",
       "\n",
       "    .dataframe thead th {\n",
       "        text-align: right;\n",
       "    }\n",
       "</style>\n",
       "<table border=\"1\" class=\"dataframe\">\n",
       "  <thead>\n",
       "    <tr style=\"text-align: right;\">\n",
       "      <th></th>\n",
       "      <th>state_numeric</th>\n",
       "      <th>populationnumeric</th>\n",
       "      <th>householdsizenumeric</th>\n",
       "      <th>racepctblacknumeric</th>\n",
       "      <th>racePctWhitenumeric</th>\n",
       "      <th>racePctAsiannumeric</th>\n",
       "      <th>racePctHispnumeric</th>\n",
       "      <th>agePctnumeric</th>\n",
       "      <th>agePcttnumeric</th>\n",
       "      <th>agePctttnumeric</th>\n",
       "      <th>...</th>\n",
       "      <th>NumInSheltersnumeric</th>\n",
       "      <th>NumStreetnumeric</th>\n",
       "      <th>PctForeignBornnumeric</th>\n",
       "      <th>PctBornSameStatenumeric</th>\n",
       "      <th>PctSameHousenumeric</th>\n",
       "      <th>PctSameCitynumeric</th>\n",
       "      <th>PctSameStatenumeric</th>\n",
       "      <th>LandAreanumeric</th>\n",
       "      <th>PctUsePubTransnumeric</th>\n",
       "      <th>ViolentCrimesPerPop_numeric</th>\n",
       "    </tr>\n",
       "  </thead>\n",
       "  <tbody>\n",
       "    <tr>\n",
       "      <th>0</th>\n",
       "      <td>-1.261380</td>\n",
       "      <td>1.043350</td>\n",
       "      <td>-0.814793</td>\n",
       "      <td>-0.629844</td>\n",
       "      <td>0.599427</td>\n",
       "      <td>-0.161248</td>\n",
       "      <td>0.111737</td>\n",
       "      <td>-0.542654</td>\n",
       "      <td>-0.166244</td>\n",
       "      <td>-0.277853</td>\n",
       "      <td>...</td>\n",
       "      <td>0.102934</td>\n",
       "      <td>-0.226876</td>\n",
       "      <td>-0.413403</td>\n",
       "      <td>-0.924451</td>\n",
       "      <td>-0.193271</td>\n",
       "      <td>-0.580608</td>\n",
       "      <td>-0.058165</td>\n",
       "      <td>0.500363</td>\n",
       "      <td>0.167274</td>\n",
       "      <td>-0.163010</td>\n",
       "    </tr>\n",
       "    <tr>\n",
       "      <th>1</th>\n",
       "      <td>1.482932</td>\n",
       "      <td>-0.453823</td>\n",
       "      <td>-1.853172</td>\n",
       "      <td>-0.235276</td>\n",
       "      <td>-0.056205</td>\n",
       "      <td>1.418626</td>\n",
       "      <td>-0.318386</td>\n",
       "      <td>-1.058133</td>\n",
       "      <td>0.669623</td>\n",
       "      <td>0.082497</td>\n",
       "      <td>...</td>\n",
       "      <td>-0.286904</td>\n",
       "      <td>-0.226876</td>\n",
       "      <td>-0.024019</td>\n",
       "      <td>-0.532924</td>\n",
       "      <td>-1.075534</td>\n",
       "      <td>-0.131778</td>\n",
       "      <td>-0.663550</td>\n",
       "      <td>-0.413220</td>\n",
       "      <td>1.258716</td>\n",
       "      <td>1.854288</td>\n",
       "    </tr>\n",
       "    <tr>\n",
       "      <th>2</th>\n",
       "      <td>-0.285625</td>\n",
       "      <td>-0.453823</td>\n",
       "      <td>-0.265063</td>\n",
       "      <td>1.224624</td>\n",
       "      <td>-0.793790</td>\n",
       "      <td>0.078127</td>\n",
       "      <td>-0.447423</td>\n",
       "      <td>-0.220481</td>\n",
       "      <td>-0.166244</td>\n",
       "      <td>-0.337911</td>\n",
       "      <td>...</td>\n",
       "      <td>-0.286904</td>\n",
       "      <td>-0.226876</td>\n",
       "      <td>-0.326874</td>\n",
       "      <td>-0.581865</td>\n",
       "      <td>0.027294</td>\n",
       "      <td>0.217312</td>\n",
       "      <td>-0.461755</td>\n",
       "      <td>-0.504578</td>\n",
       "      <td>-0.618564</td>\n",
       "      <td>0.824178</td>\n",
       "    </tr>\n",
       "    <tr>\n",
       "      <th>3</th>\n",
       "      <td>0.324222</td>\n",
       "      <td>-0.138629</td>\n",
       "      <td>1.872776</td>\n",
       "      <td>3.236918</td>\n",
       "      <td>-2.760686</td>\n",
       "      <td>-0.161248</td>\n",
       "      <td>-0.189349</td>\n",
       "      <td>0.552737</td>\n",
       "      <td>0.042723</td>\n",
       "      <td>0.022439</td>\n",
       "      <td>...</td>\n",
       "      <td>-0.286904</td>\n",
       "      <td>-0.226876</td>\n",
       "      <td>-0.110549</td>\n",
       "      <td>-1.511740</td>\n",
       "      <td>1.074981</td>\n",
       "      <td>0.067702</td>\n",
       "      <td>-0.007717</td>\n",
       "      <td>-0.413220</td>\n",
       "      <td>0.516536</td>\n",
       "      <td>-0.506380</td>\n",
       "    </tr>\n",
       "    <tr>\n",
       "      <th>4</th>\n",
       "      <td>0.812100</td>\n",
       "      <td>-0.375024</td>\n",
       "      <td>0.528992</td>\n",
       "      <td>-0.629844</td>\n",
       "      <td>0.804312</td>\n",
       "      <td>-0.304873</td>\n",
       "      <td>-0.404411</td>\n",
       "      <td>-0.284915</td>\n",
       "      <td>-0.793144</td>\n",
       "      <td>-0.638204</td>\n",
       "      <td>...</td>\n",
       "      <td>-0.286904</td>\n",
       "      <td>-0.226876</td>\n",
       "      <td>-0.456668</td>\n",
       "      <td>0.543773</td>\n",
       "      <td>0.578708</td>\n",
       "      <td>-0.081908</td>\n",
       "      <td>-0.613101</td>\n",
       "      <td>-0.230503</td>\n",
       "      <td>-0.618564</td>\n",
       "      <td>-0.892671</td>\n",
       "    </tr>\n",
       "    <tr>\n",
       "      <th>5</th>\n",
       "      <td>-1.383350</td>\n",
       "      <td>-0.296226</td>\n",
       "      <td>-1.120198</td>\n",
       "      <td>-0.472017</td>\n",
       "      <td>-0.875744</td>\n",
       "      <td>4.051749</td>\n",
       "      <td>0.455835</td>\n",
       "      <td>-0.735959</td>\n",
       "      <td>-0.096589</td>\n",
       "      <td>-0.397970</td>\n",
       "      <td>...</td>\n",
       "      <td>-0.286904</td>\n",
       "      <td>-0.226876</td>\n",
       "      <td>2.095962</td>\n",
       "      <td>-0.924451</td>\n",
       "      <td>-0.248413</td>\n",
       "      <td>0.516532</td>\n",
       "      <td>-0.058165</td>\n",
       "      <td>-0.504578</td>\n",
       "      <td>-0.269303</td>\n",
       "      <td>-0.420538</td>\n",
       "    </tr>\n",
       "    <tr>\n",
       "      <th>6</th>\n",
       "      <td>0.934069</td>\n",
       "      <td>-0.375024</td>\n",
       "      <td>-0.448306</td>\n",
       "      <td>-0.708757</td>\n",
       "      <td>0.927243</td>\n",
       "      <td>-0.448498</td>\n",
       "      <td>-0.533447</td>\n",
       "      <td>-0.800393</td>\n",
       "      <td>-0.862800</td>\n",
       "      <td>-0.638204</td>\n",
       "      <td>...</td>\n",
       "      <td>-0.286904</td>\n",
       "      <td>-0.226876</td>\n",
       "      <td>-0.283609</td>\n",
       "      <td>0.984240</td>\n",
       "      <td>1.295546</td>\n",
       "      <td>1.414192</td>\n",
       "      <td>0.950809</td>\n",
       "      <td>-0.139145</td>\n",
       "      <td>-0.443933</td>\n",
       "      <td>-0.892671</td>\n",
       "    </tr>\n",
       "    <tr>\n",
       "      <th>7</th>\n",
       "      <td>-1.383350</td>\n",
       "      <td>-0.375024</td>\n",
       "      <td>1.689533</td>\n",
       "      <td>-0.590387</td>\n",
       "      <td>-1.203560</td>\n",
       "      <td>0.221752</td>\n",
       "      <td>3.681758</td>\n",
       "      <td>0.617171</td>\n",
       "      <td>0.391000</td>\n",
       "      <td>0.142556</td>\n",
       "      <td>...</td>\n",
       "      <td>-0.286904</td>\n",
       "      <td>-0.226876</td>\n",
       "      <td>1.620048</td>\n",
       "      <td>-0.141398</td>\n",
       "      <td>-0.082989</td>\n",
       "      <td>0.815752</td>\n",
       "      <td>0.648116</td>\n",
       "      <td>-0.504578</td>\n",
       "      <td>-0.705879</td>\n",
       "      <td>1.339233</td>\n",
       "    </tr>\n",
       "    <tr>\n",
       "      <th>8</th>\n",
       "      <td>-0.468579</td>\n",
       "      <td>-0.217427</td>\n",
       "      <td>-0.753712</td>\n",
       "      <td>0.080378</td>\n",
       "      <td>0.353565</td>\n",
       "      <td>-0.639997</td>\n",
       "      <td>-0.619472</td>\n",
       "      <td>-0.284915</td>\n",
       "      <td>-0.305555</td>\n",
       "      <td>-0.337911</td>\n",
       "      <td>...</td>\n",
       "      <td>-0.189445</td>\n",
       "      <td>-0.226876</td>\n",
       "      <td>-0.889317</td>\n",
       "      <td>0.837418</td>\n",
       "      <td>-0.303554</td>\n",
       "      <td>0.815752</td>\n",
       "      <td>0.496770</td>\n",
       "      <td>-0.230503</td>\n",
       "      <td>-0.531249</td>\n",
       "      <td>1.253391</td>\n",
       "    </tr>\n",
       "    <tr>\n",
       "      <th>9</th>\n",
       "      <td>0.019299</td>\n",
       "      <td>-0.375024</td>\n",
       "      <td>-0.387225</td>\n",
       "      <td>-0.472017</td>\n",
       "      <td>0.476496</td>\n",
       "      <td>0.700501</td>\n",
       "      <td>-0.490435</td>\n",
       "      <td>3.065692</td>\n",
       "      <td>2.271701</td>\n",
       "      <td>2.785126</td>\n",
       "      <td>...</td>\n",
       "      <td>-0.286904</td>\n",
       "      <td>-0.226876</td>\n",
       "      <td>0.019246</td>\n",
       "      <td>-0.924451</td>\n",
       "      <td>-1.075534</td>\n",
       "      <td>-1.976967</td>\n",
       "      <td>-2.832843</td>\n",
       "      <td>-0.595936</td>\n",
       "      <td>-0.225645</td>\n",
       "      <td>-0.377616</td>\n",
       "    </tr>\n",
       "  </tbody>\n",
       "</table>\n",
       "<p>10 rows × 99 columns</p>\n",
       "</div>"
      ],
      "text/plain": [
       "   state_numeric  populationnumeric  householdsizenumeric  \\\n",
       "0      -1.261380           1.043350             -0.814793   \n",
       "1       1.482932          -0.453823             -1.853172   \n",
       "2      -0.285625          -0.453823             -0.265063   \n",
       "3       0.324222          -0.138629              1.872776   \n",
       "4       0.812100          -0.375024              0.528992   \n",
       "5      -1.383350          -0.296226             -1.120198   \n",
       "6       0.934069          -0.375024             -0.448306   \n",
       "7      -1.383350          -0.375024              1.689533   \n",
       "8      -0.468579          -0.217427             -0.753712   \n",
       "9       0.019299          -0.375024             -0.387225   \n",
       "\n",
       "   racepctblacknumeric  racePctWhitenumeric  racePctAsiannumeric  \\\n",
       "0            -0.629844             0.599427            -0.161248   \n",
       "1            -0.235276            -0.056205             1.418626   \n",
       "2             1.224624            -0.793790             0.078127   \n",
       "3             3.236918            -2.760686            -0.161248   \n",
       "4            -0.629844             0.804312            -0.304873   \n",
       "5            -0.472017            -0.875744             4.051749   \n",
       "6            -0.708757             0.927243            -0.448498   \n",
       "7            -0.590387            -1.203560             0.221752   \n",
       "8             0.080378             0.353565            -0.639997   \n",
       "9            -0.472017             0.476496             0.700501   \n",
       "\n",
       "   racePctHispnumeric  agePctnumeric  agePcttnumeric  agePctttnumeric  \\\n",
       "0            0.111737      -0.542654       -0.166244        -0.277853   \n",
       "1           -0.318386      -1.058133        0.669623         0.082497   \n",
       "2           -0.447423      -0.220481       -0.166244        -0.337911   \n",
       "3           -0.189349       0.552737        0.042723         0.022439   \n",
       "4           -0.404411      -0.284915       -0.793144        -0.638204   \n",
       "5            0.455835      -0.735959       -0.096589        -0.397970   \n",
       "6           -0.533447      -0.800393       -0.862800        -0.638204   \n",
       "7            3.681758       0.617171        0.391000         0.142556   \n",
       "8           -0.619472      -0.284915       -0.305555        -0.337911   \n",
       "9           -0.490435       3.065692        2.271701         2.785126   \n",
       "\n",
       "              ...               NumInSheltersnumeric  NumStreetnumeric  \\\n",
       "0             ...                           0.102934         -0.226876   \n",
       "1             ...                          -0.286904         -0.226876   \n",
       "2             ...                          -0.286904         -0.226876   \n",
       "3             ...                          -0.286904         -0.226876   \n",
       "4             ...                          -0.286904         -0.226876   \n",
       "5             ...                          -0.286904         -0.226876   \n",
       "6             ...                          -0.286904         -0.226876   \n",
       "7             ...                          -0.286904         -0.226876   \n",
       "8             ...                          -0.189445         -0.226876   \n",
       "9             ...                          -0.286904         -0.226876   \n",
       "\n",
       "   PctForeignBornnumeric  PctBornSameStatenumeric  PctSameHousenumeric  \\\n",
       "0              -0.413403                -0.924451            -0.193271   \n",
       "1              -0.024019                -0.532924            -1.075534   \n",
       "2              -0.326874                -0.581865             0.027294   \n",
       "3              -0.110549                -1.511740             1.074981   \n",
       "4              -0.456668                 0.543773             0.578708   \n",
       "5               2.095962                -0.924451            -0.248413   \n",
       "6              -0.283609                 0.984240             1.295546   \n",
       "7               1.620048                -0.141398            -0.082989   \n",
       "8              -0.889317                 0.837418            -0.303554   \n",
       "9               0.019246                -0.924451            -1.075534   \n",
       "\n",
       "   PctSameCitynumeric  PctSameStatenumeric  LandAreanumeric  \\\n",
       "0           -0.580608            -0.058165         0.500363   \n",
       "1           -0.131778            -0.663550        -0.413220   \n",
       "2            0.217312            -0.461755        -0.504578   \n",
       "3            0.067702            -0.007717        -0.413220   \n",
       "4           -0.081908            -0.613101        -0.230503   \n",
       "5            0.516532            -0.058165        -0.504578   \n",
       "6            1.414192             0.950809        -0.139145   \n",
       "7            0.815752             0.648116        -0.504578   \n",
       "8            0.815752             0.496770        -0.230503   \n",
       "9           -1.976967            -2.832843        -0.595936   \n",
       "\n",
       "   PctUsePubTransnumeric  ViolentCrimesPerPop_numeric  \n",
       "0               0.167274                    -0.163010  \n",
       "1               1.258716                     1.854288  \n",
       "2              -0.618564                     0.824178  \n",
       "3               0.516536                    -0.506380  \n",
       "4              -0.618564                    -0.892671  \n",
       "5              -0.269303                    -0.420538  \n",
       "6              -0.443933                    -0.892671  \n",
       "7              -0.705879                     1.339233  \n",
       "8              -0.531249                     1.253391  \n",
       "9              -0.225645                    -0.377616  \n",
       "\n",
       "[10 rows x 99 columns]"
      ]
     },
     "execution_count": 50,
     "metadata": {},
     "output_type": "execute_result"
    }
   ],
   "source": [
    "crime.head(10)"
   ]
  },
  {
   "cell_type": "code",
   "execution_count": 71,
   "metadata": {},
   "outputs": [
    {
     "name": "stderr",
     "output_type": "stream",
     "text": [
      "D:\\anaconda\\lib\\site-packages\\ipykernel_launcher.py:1: FutureWarning: Method .as_matrix will be removed in a future version. Use .values instead.\n",
      "  \"\"\"Entry point for launching an IPython kernel.\n"
     ]
    }
   ],
   "source": [
    "nX = crime.as_matrix() \n",
    "nX = nX.astype(float) # 공통된 데이터\n",
    "\n",
    "nnX = nX[:,:98] # LAsso를 위한 데이터\n",
    "npX = nX[:,98] #target\n",
    "\n",
    "nX1= np.c_[np.ones((1994,1)),nX] # Ridge를 위한 데이터\n"
   ]
  },
  {
   "cell_type": "code",
   "execution_count": 72,
   "metadata": {},
   "outputs": [],
   "source": [
    "X=nX1[:,:99]"
   ]
  },
  {
   "cell_type": "code",
   "execution_count": 74,
   "metadata": {},
   "outputs": [
    {
     "data": {
      "text/plain": [
       "array([ 0.16727414,  1.25871603, -0.61856401, ...,  0.07995879,\n",
       "        0.73482392, -0.48759099])"
      ]
     },
     "execution_count": 74,
     "metadata": {},
     "output_type": "execute_result"
    }
   ],
   "source": [
    "nnX[:,97]"
   ]
  },
  {
   "cell_type": "code",
   "execution_count": 76,
   "metadata": {},
   "outputs": [
    {
     "data": {
      "text/plain": [
       "array([-0.16301029,  1.85428781,  0.82417814, ..., -0.03424658,\n",
       "       -0.20593153,  1.03878432])"
      ]
     },
     "execution_count": 76,
     "metadata": {},
     "output_type": "execute_result"
    }
   ],
   "source": [
    "npX"
   ]
  },
  {
   "cell_type": "code",
   "execution_count": 62,
   "metadata": {},
   "outputs": [
    {
     "data": {
      "text/plain": [
       "array([ 0.16727414,  1.25871603, -0.61856401, ...,  0.07995879,\n",
       "        0.73482392, -0.48759099])"
      ]
     },
     "execution_count": 62,
     "metadata": {},
     "output_type": "execute_result"
    }
   ],
   "source": [
    "X[:,98]"
   ]
  },
  {
   "cell_type": "code",
   "execution_count": 56,
   "metadata": {},
   "outputs": [],
   "source": [
    "predict = nX1[:,99]"
   ]
  },
  {
   "cell_type": "code",
   "execution_count": 75,
   "metadata": {},
   "outputs": [
    {
     "data": {
      "text/plain": [
       "array([-0.16301029,  1.85428781,  0.82417814, ..., -0.03424658,\n",
       "       -0.20593153,  1.03878432])"
      ]
     },
     "execution_count": 75,
     "metadata": {},
     "output_type": "execute_result"
    }
   ],
   "source": [
    "predict"
   ]
  },
  {
   "cell_type": "code",
   "execution_count": 77,
   "metadata": {},
   "outputs": [],
   "source": [
    "import numpy as np\n",
    "import matplotlib.pyplot as plt\n",
    "%matplotlib inline\n",
    "plt.rcParams[\"figure.figsize\"] = (10,8)"
   ]
  },
  {
   "cell_type": "code",
   "execution_count": 78,
   "metadata": {},
   "outputs": [],
   "source": [
    "def Ridge(X, y,lam):\n",
    "    lam_par = lam\n",
    "    xtranspose = np.transpose(X)\n",
    "    xtransx = np.dot(xtranspose, X)\n",
    "    lamidentity = np.identity(xtransx.shape[0]) * lam_par\n",
    "    matinv = np.linalg.inv(lamidentity + xtransx)\n",
    "    xtransy = np.dot(xtranspose, y)\n",
    "    wRR = np.dot(matinv, xtransy)\n",
    "    _, S, _ = np.linalg.svd(X)\n",
    "    return wRR"
   ]
  },
  {
   "cell_type": "code",
   "execution_count": 79,
   "metadata": {},
   "outputs": [],
   "source": [
    "def calc_train_error(X_train, y_train):\n",
    "    A= Ridge(X_train,y_train,lam)\n",
    "    predictions = np.dot(X_train,A)\n",
    "    mse = np.sqrt(np.sum(np.square(y_train - predictions)))\n",
    "    return mse\n",
    "    \n",
    "def calc_validation_error(X_test, y_test,X_train,y_train):\n",
    "    A= Ridge(X_train,y_train,lam)\n",
    "    predictions = np.dot(X_test,A)\n",
    "    mse = np.sqrt(np.sum(np.square(y_test - predictions)))*(len(y_train)/len(y_test))\n",
    "    return mse\n",
    "    \n",
    "def calc_metrics(X_train, y_train, X_test, y_test,lam):\n",
    "    #model.fit(X_train, y_train)\n",
    "    train_error = calc_train_error(X_train, y_train)\n",
    "    validation_error = calc_validation_error(X_test, y_test,X_train,y_train)\n",
    "    return train_error, validation_error"
   ]
  },
  {
   "cell_type": "code",
   "execution_count": 80,
   "metadata": {},
   "outputs": [],
   "source": [
    "Tr1 = nX1[:200,:99] #결측치를 평균으로 처리할 경우 99->118 \n",
    "Tv1 = nX1[:200,99]\n",
    "Tr2 = nX1[200:400,:99]\n",
    "Tv2 = nX1[200:400,99]\n",
    "Tr3 = nX1[400:600,:99]\n",
    "Tv3 = nX1[400:600,99]\n",
    "Tr4 = nX1[600:800,:99]\n",
    "Tv4 = nX1[600:800,99]\n",
    "Tr5 =  nX1[800:1000,:99]\n",
    "Tv5 = nX1[800:1000,99]\n",
    "Tr6 = nX1[1000:1200,:99]\n",
    "Tv6 = nX1[1000:1200,99]\n",
    "Tr7 = nX1[1200:1400,:99]\n",
    "Tv7 = nX1[1200:1400,99]\n",
    "Tr8 = nX1[1400:1600,:99]\n",
    "Tv8 = nX1[1400:1600,99]\n",
    "Tr9 = nX1[1600:1800,:99]\n",
    "Tv9 = nX1[1600:1800,99]\n",
    "Tr10 = nX1[1800:,:99]\n",
    "Tv10 = nX1[1800:,99]"
   ]
  },
  {
   "cell_type": "code",
   "execution_count": 81,
   "metadata": {},
   "outputs": [],
   "source": [
    "Train1 = np.delete(X, [i for i in range(200)], axis=0)\n",
    "Tval1 = np.delete(predict, [i for i in range(200)], axis=0)\n",
    "Train2 = np.delete(X, [i for i in range(200,400)], axis=0)\n",
    "Tval2 = np.delete(predict, [i for i in range(200,400)], axis=0)\n",
    "Train3 = np.delete(X, [i for i in range(400,600)], axis=0)\n",
    "Tval3 = np.delete(predict, [i for i in range(400,600)], axis=0)\n",
    "Train4 = np.delete(X, [i for i in range(600,800)], axis=0)\n",
    "Tval4 = np.delete(predict, [i for i in range(600,800)], axis=0)\n",
    "Train5 = np.delete(X, [i for i in range(800,1000)], axis=0)\n",
    "Tval5 = np.delete(predict, [i for i in range(800,1000)], axis=0)\n",
    "Train6 = np.delete(X, [i for i in range(1000,1200)], axis=0)\n",
    "Tval6 = np.delete(predict, [i for i in range(1000,1200)], axis=0)\n",
    "Train7 = np.delete(X, [i for i in range(1200,1400)], axis=0)\n",
    "Tval7 = np.delete(predict, [i for i in range(1200,1400)], axis=0)\n",
    "Train8 =np.delete(X, [i for i in range(1400,1600)], axis=0)\n",
    "Tval8 =np.delete(predict, [i for i in range(1400,1600)], axis=0)\n",
    "Train9 = np.delete(X, [i for i in range(1600,1800)], axis=0)\n",
    "Tval9 = np.delete(predict, [i for i in range(1600,1800)], axis=0)\n",
    "Train10 = np.delete(X, [i for i in range(1800,len(predict))], axis=0)\n",
    "Tval10 = np.delete(predict, [i for i in range(1800,len(predict))], axis=0)\n",
    "\n",
    "TrainSet = [Train1,Train2,Train3,Train4,Train5,Train6,Train7,Train8,Train9,Train10]\n",
    "TvalSet=[Tval1,Tval2,Tval3,Tval4,Tval5,Tval6,Tval7,Tval8,Tval9,Tval10]"
   ]
  },
  {
   "cell_type": "code",
   "execution_count": 82,
   "metadata": {},
   "outputs": [],
   "source": [
    "\n",
    "TargetSet=[Tr1,Tr2,Tr3,Tr4,Tr5,Tr6,Tr7,Tr8,Tr9,Tr10]\n",
    "TavalSet=[Tv1,Tv2,Tv3,Tv4,Tv5,Tv6,Tv7,Tv8,Tv9,Tv10]"
   ]
  },
  {
   "cell_type": "markdown",
   "metadata": {},
   "source": [
    "$\\LARGE 10\\ fold\\ Validation$"
   ]
  },
  {
   "cell_type": "code",
   "execution_count": 86,
   "metadata": {},
   "outputs": [
    {
     "name": "stdout",
     "output_type": "stream",
     "text": [
      "lam:   40.0 | min(train_error): 23.0868 | min(val_error): 65.0016\n",
      "lam: 44.44444444444444 | min(train_error): 23.1081 | min(val_error): 64.9951\n",
      "lam: 48.888888888888886 | min(train_error): 23.1284 | min(val_error): 64.9943\n",
      "lam: 53.333333333333336 | min(train_error): 23.1478 | min(val_error): 64.9978\n",
      "lam: 57.77777777777778 | min(train_error): 23.1664 | min(val_error): 65.0048\n",
      "lam: 62.22222222222222 | min(train_error): 23.1843 | min(val_error): 65.0145\n",
      "lam: 66.66666666666667 | min(train_error): 23.2014 | min(val_error): 65.0265\n",
      "lam: 71.11111111111111 | min(train_error): 23.2179 | min(val_error): 65.0402\n",
      "lam: 75.55555555555556 | min(train_error): 23.2337 | min(val_error): 65.0554\n",
      "lam:   80.0 | min(train_error): 23.2491 | min(val_error): 65.0718\n"
     ]
    }
   ],
   "source": [
    "#lamdas = np.logspace(0,30,50)\n",
    "\n",
    "# 변경가능\n",
    "\n",
    "lamdas = np.linspace(40,80,10)\n",
    "\n",
    "MSE_list = []\n",
    "for lam in lamdas:\n",
    "    train_errors = []\n",
    "    validation_errors = []\n",
    "    for i in range(10):\n",
    "        \n",
    "        \n",
    "        X_train, X_val = TrainSet[i], TargetSet[i]\n",
    "        y_train, y_val = TvalSet[i], TavalSet[i]\n",
    "\n",
    "        \n",
    "        train_error, val_error = calc_metrics(X_train, y_train, X_val, y_val,lam)\n",
    "        \n",
    "        # append to appropriate list\n",
    "        train_errors.append(train_error)\n",
    "        validation_errors.append(val_error)\n",
    "\n",
    "    MSE_list.append(min(validation_errors))\n",
    "    # generate report\n",
    "    print('lam: {:6} | min(train_error): {:7} | min(val_error): {}'.\n",
    "        format(lam,\n",
    "                round(np.min(train_errors),4),\n",
    "                round(np.min(validation_errors),4)))"
   ]
  },
  {
   "cell_type": "code",
   "execution_count": 87,
   "metadata": {},
   "outputs": [
    {
     "data": {
      "image/png": "[encoded data removed]",
      "text/plain": [
       "<Figure size 720x576 with 1 Axes>"
      ]
     },
     "metadata": {
      "needs_background": "light"
     },
     "output_type": "display_data"
    }
   ],
   "source": [
    "def plotRMSEValue(lamdas,RMSE_list):\n",
    "    colors = ['#e41a1c']\n",
    "    plt.plot(lamdas, MSE_list, color = colors[0])\n",
    "    plt.scatter(lamdas, MSE_list, color = colors[0] , s = 8)\n",
    "    # df(lambda)\n",
    "    plt.xlabel(\"$\\lambda$\")\n",
    "    plt.ylabel(\"MSE\")\n",
    "    # and a legend\n",
    "    plt.title(r\"MSE vs $\\lambda$ values for the test set, $\\lambda$ \")\n",
    "plt.figure()\n",
    "plotRMSEValue(lamdas,MSE_list)\n",
    "plt.show()"
   ]
  },
  {
   "cell_type": "markdown",
   "metadata": {},
   "source": [
    "$\\large 적절한\\ 규제가\\ 있을때,\\ MSE가\\ 최소가\\ 된다.(RMSE이지만\\ 편의상\\ MSE로\\ 쓰겠음)$"
   ]
  },
  {
   "cell_type": "markdown",
   "metadata": {},
   "source": [
    "\n",
    "$\\large 따라서\\ 주어진\\ 데이터는\\ 상당한\\ multi-colinearility를\\ 가짐을\\ 알\\ 수\\ 있다.$"
   ]
  },
  {
   "cell_type": "markdown",
   "metadata": {},
   "source": [
    "$\\large 또한\\ 훈련데이터에\\ 대한\\ MSE와\\ 검증데이터에\\ 대한\\ MSE는\\ 약\\ 3배가\\ 차이가\\ 난다.$"
   ]
  },
  {
   "cell_type": "markdown",
   "metadata": {},
   "source": [
    "$\\large 이것은\\ validation을\\ 위해\\ 데이터\\ 세트를\\ k겹으로\\ 나눌때\\ 발생하는\\ 결과이다.$\n"
   ]
  },
  {
   "cell_type": "markdown",
   "metadata": {},
   "source": [
    "$\\large 적절한\\ k를\\ 찾아서\\ 이\\ 차이를\\ 줄일\\ 수\\ 있을\\ 것이다.$"
   ]
  },
  {
   "cell_type": "markdown",
   "metadata": {},
   "source": [
    "."
   ]
  },
  {
   "cell_type": "markdown",
   "metadata": {},
   "source": [
    "."
   ]
  },
  {
   "cell_type": "markdown",
   "metadata": {},
   "source": [
    "$\\LARGE Lasso $ "
   ]
  },
  {
   "cell_type": "code",
   "execution_count": 88,
   "metadata": {},
   "outputs": [],
   "source": [
    "def soft_threshold(rho,lamda):\n",
    "    '''Soft threshold function used for normalized data and lasso regression'''\n",
    "    if rho < - lamda:\n",
    "        return (rho + lamda)\n",
    "    elif rho >  lamda:\n",
    "        return (rho - lamda)\n",
    "    else: \n",
    "        return 0\n",
    "    \n",
    "\n",
    "def lasso(theta,X,y,lamda = .01, num_iters=50, intercept = False):\n",
    "    '''Coordinate gradient descent for lasso regression - for normalized data. \n",
    "    The intercept parameter allows to specify whether or not we regularize theta_0'''\n",
    "    \n",
    "    m,n = X.shape\n",
    "    X = X / (np.linalg.norm(X,axis = 0)) #normalizing X in case it was not done before\n",
    "\n",
    "    y = y.reshape(-1,1)\n",
    "    \n",
    "    for i in range(num_iters): \n",
    "        \n",
    "        for j in range(n):\n",
    "            \n",
    "            X_j = X[:,j].reshape(-1,1)\n",
    "            y_pred = np.dot(X,theta)\n",
    "            rho = np.dot(X_j.T, (y - y_pred  + theta[j]*X_j))\n",
    "        \n",
    "            if intercept == True:  \n",
    "                if j == 0: \n",
    "                    theta[j] =  rho \n",
    "                else:\n",
    "                    theta[j] =  soft_threshold(rho, lamda)  \n",
    "\n",
    "            if intercept == False:\n",
    "                theta[j] =  soft_threshold(rho, lamda)   \n",
    "            \n",
    "    return theta.flatten()"
   ]
  },
  {
   "cell_type": "markdown",
   "metadata": {},
   "source": [
    "$\\Large Lasso\\ code\\ explanation$"
   ]
  },
  {
   "cell_type": "markdown",
   "metadata": {},
   "source": [
    "\n",
    "$\\large The\\ Lasso\\ cost\\ function\\ is\\ following:$\n"
   ]
  },
  {
   "cell_type": "markdown",
   "metadata": {},
   "source": [
    "\\begin{aligned}\n",
    " RSS^{lasso}(\\theta) & = RSS^{OLS}(\\theta) + \\lambda || \\theta ||_1\n",
    "\\\\\n",
    "&= \\frac{1}{2} \\sum_{i=1}^m \\left[y^{(i)} - \\sum_{j=0}^n \\theta_j  x_j^{(i)}\\right]^2 + \\lambda \\sum_{j=0}^n |\\theta_j|\n",
    "\\end{aligned}"
   ]
  },
  {
   "cell_type": "markdown",
   "metadata": {},
   "source": [
    "$\\large Then\\ for\\ j,$"
   ]
  },
  {
   "cell_type": "markdown",
   "metadata": {},
   "source": [
    "\\begin{aligned} \\lambda \\sum_{j=0}^n |\\theta_j| = \\lambda |\\theta_j| + \\lambda \\sum_{k\\neq j}^n |\\theta_k|\n",
    "\\end{aligned}"
   ]
  },
  {
   "cell_type": "markdown",
   "metadata": {},
   "source": [
    "\\begin{equation}\n",
    "    \\partial_{\\theta_j} \\lambda \\sum_{j=0}^n |\\theta_j|  =      \\partial_{\\theta_j} \\lambda |\\theta_j|=\n",
    "    \\begin{cases}\n",
    "      \\{ - \\lambda \\} & \\text{if}\\ \\theta_j < 0 \\\\\n",
    "      [ - \\lambda , \\lambda ] & \\text{if}\\ \\theta_j = 0 \\\\\n",
    "      \\{  \\lambda \\} & \\text{if}\\ \\theta_j > 0 \n",
    "    \\end{cases}\n",
    "  \\end{equation}"
   ]
  },
  {
   "cell_type": "markdown",
   "metadata": {},
   "source": [
    "\\begin{aligned}\n",
    "     \\frac{\\partial }{\\partial \\theta_j} RSS^{OLS}(\\theta) & = -  \\sum_{i=1}^m x_j^{(i)}  \\left[y^{(i)} - \\sum_{j=0}^n \\theta_j x_j^{(i)}\\right]\n",
    "     \\\\\n",
    "     & = -  \\sum_{i=1}^m x_j^{(i)}  \\left[y^{(i)} - \\sum_{k \\neq j}^n \\theta_k x_k^{(i)} - \\theta_j x_j^{(i)}\\right]\n",
    "     \\\\\n",
    "     & = -  \\sum_{i=1}^m x_j^{(i)} \\left[y^{(i)} - \\sum_{k \\neq j}^n \\theta_k x_k^{(i)} \\right] +  \\theta_j \\sum_{i=1}^m (x_j^{(i)})^2\n",
    "\\\\\n",
    "& \\triangleq - \\rho_j + \\theta_j z_j\n",
    "\\end{aligned}"
   ]
  },
  {
   "cell_type": "markdown",
   "metadata": {},
   "source": [
    "$\\large To\\ obtain\\ the\\ minimum(convex),\\ each\\ partial\\ derivative\\ must\\ be\\ zero.$"
   ]
  },
  {
   "cell_type": "markdown",
   "metadata": {},
   "source": [
    "\\begin{aligned}\n",
    "    \\partial_{\\theta_j} RSS^{lasso}(\\theta)  &=     \\partial_{\\theta_j} RSS^{OLS}(\\theta) + \\partial_{\\theta_j} \\lambda || \\theta ||_1 \n",
    "    \\\\\n",
    "    0 & = -\\rho_j + \\theta_j z_j + \\partial_{\\theta_j} \\lambda || \\theta_j || \n",
    "    \\\\\n",
    "    0 & =     \\begin{cases}\n",
    "       -\\rho_j + \\theta_j z_j  - \\lambda & \\text{if}\\ \\theta_j < 0 \\\\\n",
    "        [-\\rho_j  - \\lambda ,-\\rho_j + \\lambda ] & \\text{if}\\ \\theta_j = 0 \\\\\n",
    "       -\\rho_j + \\theta_j z_j +  \\lambda  & \\text{if}\\ \\theta_j > 0 \n",
    "    \\end{cases}\n",
    "\\end{aligned}"
   ]
  },
  {
   "cell_type": "markdown",
   "metadata": {},
   "source": [
    "$\\large Then\\ we\\ obtain\\ the\\ following:$"
   ]
  },
  {
   "cell_type": "markdown",
   "metadata": {},
   "source": [
    "\\begin{aligned}\n",
    "     \\begin{cases}\n",
    "       \\theta_j = \\frac{\\rho_j + \\lambda}{z_j}  & \\text{for} \\ \\rho_j < - \\lambda \\\\\n",
    "       \\theta_j = 0 & \\text{for} \\ - \\lambda \\leq \\rho_j \\leq \\lambda \\\\\n",
    "       \\theta_j = \\frac{\\rho_j - \\lambda}{z_j}  & \\text{for} \\ \\rho_j > \\lambda \n",
    "    \\end{cases}\n",
    "\\end{aligned}"
   ]
  },
  {
   "cell_type": "markdown",
   "metadata": {},
   "source": [
    "$\\large Note\\ that\\ \\theta_{j}\\ can\\ be\\ zero.$"
   ]
  },
  {
   "cell_type": "markdown",
   "metadata": {},
   "source": [
    "$\\large In\\ short,if\\; we\\ iterate\\ this\\ process\\, $"
   ]
  },
  {
   "cell_type": "markdown",
   "metadata": {},
   "source": [
    "$\\large we\\ can\\ know\\ whether\\ \\theta_{j}\\ has\\ a\\ meaning\\ for\\ crime\\ or\\ not\\ for\\ each\\ j.$ "
   ]
  },
  {
   "cell_type": "code",
   "execution_count": 89,
   "metadata": {},
   "outputs": [],
   "source": [
    "def calc_train_error1(X_train, y_train,initial_theta):\n",
    "    A= lasso(initial_theta,X_train,y_train,lam,num_iters=50)\n",
    "    predictions = np.dot(X_train,A)\n",
    "    mse = np.sqrt(np.sum(np.square(y_train - predictions)))\n",
    "    return mse\n",
    "    \n",
    "def calc_validation_error1(X_test, y_test,X_train,y_train,initial_theta):\n",
    "    A= lasso(initial_theta,X_train,y_train,lam,num_iters=50)\n",
    "    predictions = np.dot(X_test,A)\n",
    "    mse = np.sqrt(np.sum(np.square(y_test - predictions)))*(len(y_train)/len(y_test))\n",
    "    return mse\n",
    "    \n",
    "def calc_metrics1(X_train, y_train, X_test, y_test,lam,initial_theta):\n",
    "    #model.fit(X_train, y_train)\n",
    "    train_error = calc_train_error1(X_train, y_train,initial_theta)\n",
    "    validation_error = calc_validation_error1(X_test, y_test,X_train,y_train,initial_theta)\n",
    "    return train_error, validation_error"
   ]
  },
  {
   "cell_type": "code",
   "execution_count": 90,
   "metadata": {},
   "outputs": [],
   "source": [
    "#nX를 가져와야함\n",
    "#평균으로 처리할 경우 98->117, 99->118\n",
    "\n",
    "LTr1 = nX[:200,:98]\n",
    "LTv1 = nX1[:200,99]\n",
    "LTr2 = nX[200:400,:98]\n",
    "LTv2 = nX1[200:400,99]\n",
    "LTr3 = nX[400:600,:98]\n",
    "LTv3 = nX1[400:600,99]\n",
    "LTr4 = nX[600:800,:98]\n",
    "LTv4 = nX1[600:800,99]\n",
    "LTr5 =  nX[800:1000,:98]\n",
    "LTv5 = nX1[800:1000,99]\n",
    "LTr6 = nX[1000:1200,:98]\n",
    "LTv6 = nX1[1000:1200,99]\n",
    "LTr7 = nX[1200:1400,:98]\n",
    "LTv7 = nX1[1200:1400,99]\n",
    "LTr8 = nX[1400:1600,:98]\n",
    "LTv8 = nX1[1400:1600,99]\n",
    "LTr9 = nX[1600:1800,:98]\n",
    "LTv9 = nX1[1600:1800,99]\n",
    "LTr10 = nX[1800:,:98]\n",
    "LTv10 = nX1[1800:,99]"
   ]
  },
  {
   "cell_type": "code",
   "execution_count": 91,
   "metadata": {},
   "outputs": [],
   "source": [
    "LTrain1 = np.delete(nnX, [i for i in range(200)], axis=0)\n",
    "LTval1 = np.delete(predict, [i for i in range(200)], axis=0)\n",
    "LTrain2 = np.delete(nnX, [i for i in range(200,400)], axis=0)\n",
    "LTval2 = np.delete(predict, [i for i in range(200,400)], axis=0)\n",
    "LTrain3 = np.delete(nnX, [i for i in range(400,600)], axis=0)\n",
    "LTval3 = np.delete(predict, [i for i in range(400,600)], axis=0)\n",
    "LTrain4 = np.delete(nnX, [i for i in range(600,800)], axis=0)\n",
    "LTval4 = np.delete(predict, [i for i in range(600,800)], axis=0)\n",
    "LTrain5 = np.delete(nnX, [i for i in range(800,1000)], axis=0)\n",
    "LTval5 = np.delete(predict, [i for i in range(800,1000)], axis=0)\n",
    "LTrain6 = np.delete(nnX, [i for i in range(1000,1200)], axis=0)\n",
    "LTval6 = np.delete(predict, [i for i in range(1000,1200)], axis=0)\n",
    "LTrain7 = np.delete(nnX, [i for i in range(1200,1400)], axis=0)\n",
    "LTval7 = np.delete(predict, [i for i in range(1200,1400)], axis=0)\n",
    "LTrain8 =np.delete(nnX, [i for i in range(1400,1600)], axis=0)\n",
    "LTval8 =np.delete(predict, [i for i in range(1400,1600)], axis=0)\n",
    "LTrain9 = np.delete(nnX, [i for i in range(1600,1800)], axis=0)\n",
    "LTval9 = np.delete(predict, [i for i in range(1600,1800)], axis=0)\n",
    "LTrain10 = np.delete(nnX, [i for i in range(1800,len(predict))], axis=0)\n",
    "LTval10 = np.delete(predict, [i for i in range(1800,len(predict))], axis=0)"
   ]
  },
  {
   "cell_type": "code",
   "execution_count": 92,
   "metadata": {},
   "outputs": [],
   "source": [
    "\n",
    "LTrainSet = [LTrain1,LTrain2,LTrain3,LTrain4,LTrain5,LTrain6,LTrain7,LTrain8,LTrain9,LTrain10]\n",
    "LTvalSet=[LTval1,LTval2,LTval3,LTval4,LTval5,LTval6,LTval7,LTval8,LTval9,LTval10]\n",
    "LTargetSet=[LTr1,LTr2,LTr3,LTr4,LTr5,LTr6,LTr7,LTr8,LTr9,LTr10]\n",
    "LTavalSet=[LTv1,LTv2,LTv3,LTv4,LTv5,LTv6,LTv7,LTv8,LTv9,LTv10]"
   ]
  },
  {
   "cell_type": "code",
   "execution_count": 93,
   "metadata": {},
   "outputs": [
    {
     "name": "stdout",
     "output_type": "stream",
     "text": [
      "lam:    0.0 | min(train_error): 1436.64 | min(val_error): 3919.0516\n",
      "lam: 2.6315789473684212 | min(train_error): 1236.3153 | min(val_error): 3450.1463\n",
      "lam: 5.2631578947368425 | min(train_error): 1102.8961 | min(val_error): 3086.3807\n",
      "lam: 7.894736842105264 | min(train_error): 977.7253 | min(val_error): 2745.7607\n",
      "lam: 10.526315789473685 | min(train_error): 857.102 | min(val_error): 2415.3729\n",
      "lam: 13.157894736842106 | min(train_error): 738.5364 | min(val_error): 2084.8802\n",
      "lam: 15.789473684210527 | min(train_error): 620.3362 | min(val_error): 1755.8539\n",
      "lam: 18.42105263157895 | min(train_error): 502.8699 | min(val_error): 1429.3071\n",
      "lam: 21.05263157894737 | min(train_error): 387.106 | min(val_error): 1107.4352\n",
      "lam: 23.68421052631579 | min(train_error): 275.1279 | min(val_error): 795.9303\n",
      "lam: 26.315789473684212 | min(train_error): 165.1992 | min(val_error): 498.2547\n",
      "lam: 28.947368421052634 | min(train_error): 59.2058 | min(val_error): 173.4421\n",
      "lam: 31.578947368421055 | min(train_error): 37.8856 | min(val_error): 102.8379\n",
      "lam: 34.21052631578948 | min(train_error): 41.7191 | min(val_error): 111.5371\n",
      "lam: 36.8421052631579 | min(train_error): 41.7191 | min(val_error): 111.5371\n",
      "lam: 39.473684210526315 | min(train_error): 41.7191 | min(val_error): 111.5371\n",
      "lam: 42.10526315789474 | min(train_error): 41.7191 | min(val_error): 111.5371\n",
      "lam: 44.736842105263165 | min(train_error): 41.7191 | min(val_error): 111.5371\n",
      "lam: 47.36842105263158 | min(train_error): 41.7191 | min(val_error): 111.5371\n",
      "lam:   50.0 | min(train_error): 41.7191 | min(val_error): 111.5371\n"
     ]
    }
   ],
   "source": [
    "#lamdas = np.logspace(0,30,50) # 20은 변경가능\n",
    "lamdas = np.linspace(0,50,20)\n",
    "\n",
    "MSE_list = []\n",
    "for lam in lamdas:\n",
    "    train_errors = []\n",
    "    validation_errors = []\n",
    "    for i in range(10):\n",
    "        \n",
    "        \n",
    "        X_train, X_val = LTrainSet[i], LTargetSet[i]\n",
    "        y_train, y_val = LTvalSet[i], LTavalSet[i]\n",
    "        t,s = LTrainSet[i].shape\n",
    "        initial_theta = np.ones((s,1))\n",
    "\n",
    "        \n",
    "        train_error, val_error = calc_metrics1(X_train, y_train, X_val, y_val,lam,initial_theta)\n",
    "        \n",
    "        # append to appropriate list\n",
    "        train_errors.append(train_error)\n",
    "        validation_errors.append(val_error)\n",
    "\n",
    "    MSE_list.append(min(validation_errors))\n",
    "    # generate report\n",
    "    print('lam: {:6} | min(train_error): {:7} | min(val_error): {}'.\n",
    "        format(lam,\n",
    "                round(np.min(train_errors),4),\n",
    "                round(np.min(validation_errors),4)))"
   ]
  },
  {
   "cell_type": "code",
   "execution_count": 94,
   "metadata": {},
   "outputs": [
    {
     "data": {
      "image/png": "[encoded data removed]",
      "text/plain": [
       "<Figure size 720x576 with 1 Axes>"
      ]
     },
     "metadata": {
      "needs_background": "light"
     },
     "output_type": "display_data"
    }
   ],
   "source": [
    "def plotRMSEValue1(lamdas,RMSE_list):\n",
    "    colors = ['#e41a1c']\n",
    "    plt.plot(lamdas, MSE_list, color = colors[0])\n",
    "    plt.scatter(lamdas, MSE_list, color = colors[0] , s = 8)\n",
    "    # df(lambda)\n",
    "    plt.xlabel(\"$\\lambda$\")\n",
    "    plt.ylabel(\"MSE\")\n",
    "    # and a legend\n",
    "    plt.title(r\"MSE vs $\\lambda$ values for the test set, $\\lambda$ \")\n",
    "plt.figure()\n",
    "plotRMSEValue1(lamdas,MSE_list)\n",
    "plt.show()"
   ]
  },
  {
   "cell_type": "markdown",
   "metadata": {},
   "source": [
    "$\\large Lasso\\ Regression\\ 에서는$"
   ]
  },
  {
   "cell_type": "markdown",
   "metadata": {},
   "source": [
    "$\\large적절한\\ gradient\\ 구할\\ 수\\ 없기\\ 때문에\\ Optimization\\ Algorithm을\\ 이용했다.$"
   ]
  },
  {
   "cell_type": "markdown",
   "metadata": {},
   "source": [
    "$\\large 따라서\\ Optimziation을\\ 위한\\ Hyperparameter가\\ 필요하기\\ 때문에$"
   ]
  },
  {
   "cell_type": "markdown",
   "metadata": {},
   "source": [
    "$\\large Ridge\\ Regression의\\ \n",
    "경우보다\\ 더\\ 계산량이\\ 많아진다는\\ 단점이\\ 있다.$\n"
   ]
  },
  {
   "cell_type": "markdown",
   "metadata": {},
   "source": [
    "$\\large 또\\ Hyperparameter를\\ 적절히\\ 튜닝을\\ 해야하는\\ 문제가\\ 있다.$"
   ]
  },
  {
   "cell_type": "markdown",
   "metadata": {},
   "source": [
    "$\\large 그러나\\ Bayesian의\\ 관점에서\\ 보면\\ 주어진\\ 데이터에\\ 적절한\\ 회귀분석법은\\ Lasso인듯\\ 하다.$"
   ]
  },
  {
   "cell_type": "markdown",
   "metadata": {},
   "source": [
    "$\\large Lasso는\\ 변수들이\\ Laplace\\ 분포를\\ 따른다고\\ 판단될\\ 때\\ 적절한\\ 분석법이다.$"
   ]
  },
  {
   "cell_type": "markdown",
   "metadata": {},
   "source": [
    "$\\large 범죄율\\ 데이터\\ 분석을\\ 위한\\ 변수에\\ 관한\\ 적절한\\ 가정은\\ Normal분포가\\ 아니라\\ Laplace분포일\\ 것이다. $"
   ]
  },
  {
   "cell_type": "markdown",
   "metadata": {},
   "source": [
    "$\\large 또\\ 범죄율에\\ 영향을\\ 주는\\ 변수들은\\ 범죄율에\\ 영향을\\ 주거나\\ 아니면\\ 전혀\\ 주지\\ 않는다고 $"
   ]
  },
  {
   "cell_type": "markdown",
   "metadata": {},
   "source": [
    "$\\large 전제하는것은\\ 모델링을\\ 위한\\ 적절한\\ 가정인\\ 듯\\ 하다.$\n"
   ]
  },
  {
   "cell_type": "markdown",
   "metadata": {},
   "source": [
    "$\\large 따라서\\ 회귀계수가\\ 0이\\ 될\\ 수\\ 있다고\\ 생각해야\\ 하므로\\ Lasso가\\ Ridge\\ 보다\\ 더\\ 적절할 수 있다.$"
   ]
  },
  {
   "cell_type": "markdown",
   "metadata": {},
   "source": [
    "$\\large 구체적인\\ 근거는\\ 다음과\\ 같다.$ "
   ]
  },
  {
   "cell_type": "markdown",
   "metadata": {},
   "source": [
    "$\\large 결측치를\\ 가진\\ 데이터\\ 열을\\ 평균치로\\ 처리한\\ 경우와\\ 결측치\\ 데이터를\\ 가진\\ 열을\\ 제거한경우와 $"
   ]
  },
  {
   "cell_type": "markdown",
   "metadata": {},
   "source": [
    "$\\large Lasso분석은\\ 같은\\ 결과를\\ 내놓았다.\\ 제거된\\ 변수들은\\ 범죄율에\\ 큰\\ 영향이\\ 없음을\\ 시사한다.$"
   ]
  },
  {
   "cell_type": "markdown",
   "metadata": {},
   "source": [
    "."
   ]
  },
  {
   "cell_type": "markdown",
   "metadata": {},
   "source": [
    "$\\LARGE Elastic\\ Net$"
   ]
  },
  {
   "cell_type": "markdown",
   "metadata": {},
   "source": [
    "$\\large Consider\\ J(\\beta)={\\Vert y - X\\beta\\Vert}^{2} + \\lambda{\\Vert \\beta \\Vert}^{2} + (1-\\lambda)\\vert\\beta\\vert$"
   ]
  },
  {
   "cell_type": "markdown",
   "metadata": {},
   "source": [
    "$\\large Let\\ X_{\\lambda}= \\ {1 \\over (1+\\lambda^{2})} \\begin{pmatrix} X \\\\ \\sqrt{\\lambda} I \\end{pmatrix},\\ y_\\lambda=\\begin{pmatrix} y \\\\ 0_{\\lambda} \\end{pmatrix}$"
   ]
  },
  {
   "cell_type": "markdown",
   "metadata": {},
   "source": [
    "$\\large Then\\ J({1 \\over (1+\\lambda^{2})} \\beta) = {\\Vert y_{\\lambda} - X_{\\lambda}\\beta\\Vert}^{2} + { 1-\\lambda \\over 1+\\lambda^{2}} \\vert\\beta\\vert$"
   ]
  },
  {
   "cell_type": "markdown",
   "metadata": {},
   "source": [
    "$\\large It\\ implies\\ solving\\ the\\ modified\\ lasso\\ problem\\ can\\ give\\ rescaled\\ solution\\ for\\ original\\ problem.$"
   ]
  },
  {
   "cell_type": "markdown",
   "metadata": {},
   "source": [
    "$\\large Lasso가\\ 적절히\\ 작용하는\\ 데이터\\ 이기에\\ 결과는\\ 거의\\ 같을 것이다.$"
   ]
  }
 ],
 "metadata": {
  "kernelspec": {
   "display_name": "Python 3",
   "language": "python",
   "name": "python3"
  },
  "language_info": {
   "codemirror_mode": {
    "name": "ipython",
    "version": 3
   },
   "file_extension": ".py",
   "mimetype": "text/x-python",
   "name": "python",
   "nbconvert_exporter": "python",
   "pygments_lexer": "ipython3",
   "version": "3.7.1"
  }
 },
 "nbformat": 4,
 "nbformat_minor": 2
}
